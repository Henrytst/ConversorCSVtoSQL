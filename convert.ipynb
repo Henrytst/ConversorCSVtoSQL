{
 "cells": [
  {
   "cell_type": "code",
   "execution_count": 48,
   "metadata": {},
   "outputs": [
    {
     "name": "stderr",
     "output_type": "stream",
     "text": [
      "C:\\Users\\testi\\AppData\\Local\\Temp\\ipykernel_21436\\2908701415.py:35: DtypeWarning: Columns (10,28) have mixed types. Specify dtype option on import or set low_memory=False.\n",
      "  df = pd.read_csv(temp_file_path, delimiter=delimiter, quotechar=quotechar, na_values=[''])  # Tratar campos vazios como vazios\n"
     ]
    },
    {
     "name": "stdout",
     "output_type": "stream",
     "text": [
      "Arquivo SQL gerado em: 14.sql\n"
     ]
    }
   ],
   "source": [
    "import pandas as pd\n",
    "import os\n",
    "\n",
    "def substituir_delimitadores(file_path, delimiter_to_replace=';', replacement='|'):\n",
    "    \"\"\"Substitui os delimitadores dentro das aspas por um caractere exclusivo.\"\"\"\n",
    "    with open(file_path, 'r') as file:\n",
    "        lines = file.readlines()\n",
    "        modified_lines = []\n",
    "        for line in lines:\n",
    "            within_quotes = False\n",
    "            modified_line = ''\n",
    "            for char in line:\n",
    "                if char == '\"':\n",
    "                    within_quotes = not within_quotes\n",
    "                if within_quotes and char == delimiter_to_replace:\n",
    "                    modified_line += replacement\n",
    "                elif char == \"'\":\n",
    "                    modified_line += \"''\"  # Substitui aspas simples por duas aspas simples\n",
    "                else:\n",
    "                    modified_line += char\n",
    "            modified_lines.append(modified_line)\n",
    "    return modified_lines\n",
    "\n",
    "def csv_to_sql(file_path, output_file, table_name, delimiter=';', quotechar='\"'):\n",
    "    \"\"\"Converte um arquivo CSV para um arquivo SQL.\"\"\"\n",
    "    # Substituir delimitadores dentro das aspas\n",
    "    modified_lines = substituir_delimitadores(file_path, delimiter)\n",
    "    \n",
    "    # Salvar as linhas modificadas em um novo arquivo temporário\n",
    "    temp_file_path = 'temp.csv'\n",
    "    with open(temp_file_path, 'w') as file:\n",
    "        file.writelines(modified_lines)\n",
    "    \n",
    "    # Carregar o arquivo CSV modificado\n",
    "    df = pd.read_csv(temp_file_path, delimiter=delimiter, quotechar=quotechar, na_values=[''])  # Tratar campos vazios como vazios\n",
    "    \n",
    "    # Remover o arquivo temporário\n",
    "    os.remove(temp_file_path)\n",
    "    \n",
    "    # Substituir barras (/) por sublinhados (_) nos nomes das colunas\n",
    "    df.columns = df.columns.str.replace('/', '_')\n",
    "    \n",
    "    # Abre o arquivo SQL em modo de escrita\n",
    "    with open(output_file, 'w') as f:\n",
    "        # Escreve os comandos INSERT INTO no arquivo SQL\n",
    "        f.write(\"\\n-- Dados\\n\")\n",
    "        for index, row in df.iterrows():\n",
    "            values = ', '.join([f\"'{val}'\" if pd.notna(val) else \"''\" for val in row])  # Trata valores nulos corretamente\n",
    "            f.write(f\"INSERT INTO {table_name} VALUES ({values});\\n\")\n",
    "\n",
    "# Definir caminhos de entrada e saída e nome da tabela\n",
    "file_path = 'SP 14 de 14.csv'\n",
    "output_file = '14.sql'\n",
    "table_name = 'sp'\n",
    "\n",
    "# Converter CSV para SQL\n",
    "csv_to_sql(file_path, output_file, table_name)\n",
    "\n",
    "print(f\"Arquivo SQL gerado em: {output_file}\")\n"
   ]
  }
 ],
 "metadata": {
  "kernelspec": {
   "display_name": "Python 3",
   "language": "python",
   "name": "python3"
  },
  "language_info": {
   "codemirror_mode": {
    "name": "ipython",
    "version": 3
   },
   "file_extension": ".py",
   "mimetype": "text/x-python",
   "name": "python",
   "nbconvert_exporter": "python",
   "pygments_lexer": "ipython3",
   "version": "3.11.7"
  }
 },
 "nbformat": 4,
 "nbformat_minor": 2
}
